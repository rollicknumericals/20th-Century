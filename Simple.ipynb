{
 "cells": [
  {
   "cell_type": "markdown",
   "id": "7959f381-b8bf-4d8d-a167-31944c28811a",
   "metadata": {},
   "source": [
    "#### How much money does a baseball player who makes the average salary ($4.66 million) make per inning, if he plays every inning of all 162 games?"
   ]
  },
  {
   "cell_type": "code",
   "execution_count": 12,
   "id": "3c275f9a-69ba-43a9-9efa-334e3deb6d30",
   "metadata": {
    "tags": []
   },
   "outputs": [
    {
     "data": {
      "text/plain": [
       "28765.432098765432"
      ]
     },
     "execution_count": 12,
     "metadata": {},
     "output_type": "execute_result"
    }
   ],
   "source": [
    "4660000 / 162"
   ]
  },
  {
   "cell_type": "code",
   "execution_count": 15,
   "id": "784824f4-e8c1-493b-a300-427af5f17184",
   "metadata": {
    "tags": []
   },
   "outputs": [
    {
     "data": {
      "text/plain": [
       "3196.159122085048"
      ]
     },
     "execution_count": 15,
     "metadata": {},
     "output_type": "execute_result"
    }
   ],
   "source": [
    "28765.432098765432 / 9"
   ]
  },
  {
   "cell_type": "markdown",
   "id": "d65a7b3d-3f19-4188-92c2-18ca7ce02bac",
   "metadata": {},
   "source": [
    "##### He makes roughly $3,196.16 per inning"
   ]
  }
 ],
 "metadata": {
  "kernelspec": {
   "display_name": "Python 3 (ipykernel)",
   "language": "python",
   "name": "python3"
  },
  "language_info": {
   "codemirror_mode": {
    "name": "ipython",
    "version": 3
   },
   "file_extension": ".py",
   "mimetype": "text/x-python",
   "name": "python",
   "nbconvert_exporter": "python",
   "pygments_lexer": "ipython3",
   "version": "3.11.7"
  }
 },
 "nbformat": 4,
 "nbformat_minor": 5
}
